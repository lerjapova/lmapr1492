{
 "cells": [
  {
   "cell_type": "markdown",
   "metadata": {},
   "source": [
    "# Tâche 6"
   ]
  },
  {
   "cell_type": "markdown",
   "metadata": {},
   "source": [
    "## Téléchargement du fichier cif"
   ]
  },
  {
   "cell_type": "markdown",
   "metadata": {},
   "source": [
    "Comme pour les tâches précédentes, je vais commencer par télécharger le fichier cif qui correspond au matériau qui m'a été attribué. Dans mon cas, c'est le InP. "
   ]
  },
  {
   "cell_type": "code",
   "execution_count": 8,
   "metadata": {},
   "outputs": [],
   "source": [
    "from pymatgen.ext.matproj import MPRester\n",
    "from pymatgen.symmetry.analyzer import *\n",
    "from jupyter_jsmol import JsmolView\n",
    "from jupyter_jsmol.pymatgen import quick_view\n",
    "\n",
    "with MPRester(\"m2OqTvaFpA9jexGPK\") as m:\n",
    "\n",
    "    #structure du matériau via son ID\n",
    "    structure = m.get_structure_by_material_id(\"mp-966800\")\n",
    "\n",
    "structure.to(filename=\"InP.cif\") #cette ligne de code permet de télécharger sous fichier cif le matériau"
   ]
  },
  {
   "cell_type": "markdown",
   "metadata": {},
   "source": [
    "## Symétries"
   ]
  },
  {
   "cell_type": "markdown",
   "metadata": {},
   "source": [
    "Dans cette tâche, il nous est demandé d'étudier l'effet de 3 éléments de symétrie différents sur des atomes différents à chaque fois. "
   ]
  },
  {
   "cell_type": "markdown",
   "metadata": {},
   "source": [
    "### Première opération de symétrie : rotation d'orde 3"
   ]
  },
  {
   "cell_type": "markdown",
   "metadata": {},
   "source": [
    "#### Equations "
   ]
  },
  {
   "cell_type": "markdown",
   "metadata": {},
   "source": [
    "Comme première opération de symétrie, nous allons étudier l'effet d'une rotation d'ordre 3 sur l'atome In situé en (1/3,2/3,0). "
   ]
  },
  {
   "cell_type": "code",
   "execution_count": 9,
   "metadata": {},
   "outputs": [
    {
     "name": "stdout",
     "output_type": "stream",
     "text": [
      "Matrice de rotation : \n",
      "Rot:\n",
      "[[-1.  1.  0.]\n",
      " [-1.  0.  0.]\n",
      " [ 0.  0.  1.]]\n",
      "tau\n",
      "[0. 0. 0.]\n",
      "\n",
      "Nous avons donc bien (x,y,z) qui devient (-x+y, -x, z)\n",
      "\n",
      "L'atome de In est alors aux coordonnées : \n",
      "[ 0.333334 -0.333333  0.      ]\n"
     ]
    }
   ],
   "source": [
    "a = SpacegroupAnalyzer(structure).get_symmetry_operations()\n",
    "sym_1 = a[4] #Opération de symétrie\n",
    "In_1 = [0.33333300,0.66666700,0] #atome In \n",
    "print(\"Matrice de rotation : \")\n",
    "print(sym_1)\n",
    "print(\"\")\n",
    "print(\"Nous avons donc bien (x,y,z) qui devient (-x+y, -x, z)\")\n",
    "print(\"\")\n",
    "#Appliquons la symétrie sur l'atome \n",
    "sortie_1 = sym_1.operate(In_1)\n",
    "print(\"L'atome de In est alors aux coordonnées : \")\n",
    "print(sortie_1)"
   ]
  },
  {
   "cell_type": "markdown",
   "metadata": {},
   "source": [
    "#### Illustration"
   ]
  },
  {
   "cell_type": "code",
   "execution_count": 15,
   "metadata": {},
   "outputs": [
    {
     "data": {
      "application/vnd.jupyter.widget-view+json": {
       "model_id": "3f543f043942428f94b1d58c9d050862",
       "version_major": 2,
       "version_minor": 0
      },
      "text/plain": [
       "JsmolView(layout=Layout(align_self='stretch', height='400px'))"
      ]
     },
     "metadata": {},
     "output_type": "display_data"
    }
   ],
   "source": [
    "view1 = quick_view(structure)\n",
    "display(view1)\n",
    "view1.script(\"draw symop 3 {atomno=1}\")"
   ]
  },
  {
   "cell_type": "markdown",
   "metadata": {},
   "source": [
    "### Deuxième opération de symétrie : plan miroir"
   ]
  },
  {
   "cell_type": "markdown",
   "metadata": {},
   "source": [
    "#### Equations"
   ]
  },
  {
   "cell_type": "markdown",
   "metadata": {},
   "source": [
    "Dans ce deuxième cas, nous allons étudier l'effet d'un plan miroir qui transforme (x,y,z) en (-x+y,y,z) sur l'atome In situé en (2/3,1/3,1/2). "
   ]
  },
  {
   "cell_type": "code",
   "execution_count": 6,
   "metadata": {},
   "outputs": [
    {
     "name": "stdout",
     "output_type": "stream",
     "text": [
      "Opération de symétrie\n",
      "Rot:\n",
      "[[-1.  1.  0.]\n",
      " [ 0.  1.  0.]\n",
      " [ 0.  0.  1.]]\n",
      "tau\n",
      "[0. 0. 0.]\n",
      "\n",
      "Nous avons donc bien (x,y,z) qui devient (-x+y, y, z)\n",
      "\n",
      "L'atome de In est alors aux coordonnées : \n",
      "[-0.333334  0.333333  0.5     ]\n"
     ]
    }
   ],
   "source": [
    "sym_2 = a[7] #Opération de symétrie\n",
    "In_2 = [0.66666700,0.33333300,0.5] #atome In \n",
    "print(\"Opération de symétrie\")\n",
    "print(sym_2)\n",
    "print(\"\")\n",
    "print(\"Nous avons donc bien (x,y,z) qui devient (-x+y, y, z)\")\n",
    "print(\"\")\n",
    "#Appliquons la symétrie sur l'atome \n",
    "sortie_2 = sym_2.operate(In_2)\n",
    "print(\"L'atome de In est alors aux coordonnées : \")\n",
    "print(sortie_2)"
   ]
  },
  {
   "cell_type": "markdown",
   "metadata": {},
   "source": [
    "#### Illustration"
   ]
  },
  {
   "cell_type": "code",
   "execution_count": 25,
   "metadata": {},
   "outputs": [
    {
     "data": {
      "application/vnd.jupyter.widget-view+json": {
       "model_id": "e97c3d4f4d8b454e9f938732632deb66",
       "version_major": 2,
       "version_minor": 0
      },
      "text/plain": [
       "JsmolView(layout=Layout(align_self='stretch', height='400px'))"
      ]
     },
     "metadata": {},
     "output_type": "display_data"
    }
   ],
   "source": [
    "view2 = quick_view(structure)\n",
    "display(view2)\n",
    "view2.script(\"draw symop 8 {atomno=3}\")"
   ]
  },
  {
   "cell_type": "markdown",
   "metadata": {},
   "source": [
    "### Troisième opération de symétrie : autre miroir"
   ]
  },
  {
   "cell_type": "markdown",
   "metadata": {},
   "source": [
    "#### Equations"
   ]
  },
  {
   "cell_type": "markdown",
   "metadata": {},
   "source": [
    "Pour cette dernière opération de symétrie, nous allons considérer cette fois le miroir qui transforme (x,y,z) en (-y,-x,z) sur l'atome de P situé en (2/3,1/3,7/8)."
   ]
  },
  {
   "cell_type": "code",
   "execution_count": 43,
   "metadata": {},
   "outputs": [
    {
     "name": "stdout",
     "output_type": "stream",
     "text": [
      "Opération de symétrie\n",
      "Rot:\n",
      "[[ 0. -1.  0.]\n",
      " [-1.  0.  0.]\n",
      " [ 0.  0.  1.]]\n",
      "tau\n",
      "[0. 0. 0.]\n",
      "\n",
      "Nous avons donc bien (x,y,z) qui devient (-y, -x, z)\n",
      "\n",
      "L'atome de P est alors aux coordonnées : \n",
      "[-0.333333 -0.666667  0.875   ]\n"
     ]
    }
   ],
   "source": [
    "sym_3 = a[11] #Opération de symétrie\n",
    "P = [0.66666700,0.33333300,0.875] #atome P \n",
    "print(\"Opération de symétrie\")\n",
    "print(sym_3)\n",
    "print(\"\")\n",
    "print(\"Nous avons donc bien (x,y,z) qui devient (-y, -x, z)\")\n",
    "print(\"\")\n",
    "#Appliquons la symétrie sur l'atome \n",
    "sortie_3 = sym_3.operate(P)\n",
    "print(\"L'atome de P est alors aux coordonnées : \")\n",
    "print(sortie_3)"
   ]
  },
  {
   "cell_type": "markdown",
   "metadata": {},
   "source": [
    "#### Illustration"
   ]
  },
  {
   "cell_type": "code",
   "execution_count": 36,
   "metadata": {},
   "outputs": [
    {
     "data": {
      "application/vnd.jupyter.widget-view+json": {
       "model_id": "a9739debab9e4cff8fabb4a7405eb9db",
       "version_major": 2,
       "version_minor": 0
      },
      "text/plain": [
       "JsmolView(layout=Layout(align_self='stretch', height='400px'))"
      ]
     },
     "metadata": {},
     "output_type": "display_data"
    }
   ],
   "source": [
    "view3 = quick_view(structure)\n",
    "display(view3)\n",
    "view3.script(\"draw symop 12 {atomno=4}\")"
   ]
  },
  {
   "cell_type": "code",
   "execution_count": null,
   "metadata": {},
   "outputs": [],
   "source": []
  }
 ],
 "metadata": {
  "kernelspec": {
   "display_name": "Python 3",
   "language": "python",
   "name": "python3"
  },
  "language_info": {
   "codemirror_mode": {
    "name": "ipython",
    "version": 3
   },
   "file_extension": ".py",
   "mimetype": "text/x-python",
   "name": "python",
   "nbconvert_exporter": "python",
   "pygments_lexer": "ipython3",
   "version": "3.8.3"
  }
 },
 "nbformat": 4,
 "nbformat_minor": 5
}
