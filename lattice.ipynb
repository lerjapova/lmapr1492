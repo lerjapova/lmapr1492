{
 "cells": [
  {
   "cell_type": "markdown",
   "id": "cleared-static",
   "metadata": {},
   "source": [
    "# Tache 5"
   ]
  },
  {
   "cell_type": "markdown",
   "id": "auburn-toddler",
   "metadata": {},
   "source": [
    "### Extraction fichier"
   ]
  },
  {
   "cell_type": "markdown",
   "id": "conventional-world",
   "metadata": {},
   "source": [
    "Dans un premier temps, il nous est demandé dans cette tâche de télécharger le fichier cif du matériau qui nous a été attribué. \n",
    "Dans mon cas, c'est le InP. "
   ]
  },
  {
   "cell_type": "code",
   "execution_count": 8,
   "id": "stuffed-regular",
   "metadata": {},
   "outputs": [],
   "source": [
    "from pymatgen.ext.matproj import MPRester\n",
    "from pymatgen.symmetry.analyzer import SpacegroupAnalyzer\n",
    "\n",
    "with MPRester(\"m2OqTvaFpA9jexGPK\") as m:\n",
    "\n",
    "    #structure du matériau via son ID\n",
    "    structure = m.get_structure_by_material_id(\"mp-966800\")\n",
    "\n",
    "structure.to(filename=\"InP.cif\") #cette ligne de code permet de télécharger sous fichier cif le matériau"
   ]
  },
  {
   "cell_type": "markdown",
   "id": "spanish-means",
   "metadata": {},
   "source": [
    "### Vecteurs du réseau direct et réciproque"
   ]
  },
  {
   "cell_type": "markdown",
   "id": "friendly-convert",
   "metadata": {},
   "source": [
    "Maintenant que le fichier cif du matériau a été téléchargé, la deuxième partie de la tâche consiste à déterminer ses vecteurs de bases des ses réseaux direct et réciproque, son type de maille, son système cristallin, ainsi que son groupe ponctuel. Commençons par les vecteurs de base du réseau cristallin direct. "
   ]
  },
  {
   "cell_type": "code",
   "execution_count": 9,
   "id": "chinese-thickness",
   "metadata": {},
   "outputs": [
    {
     "name": "stdout",
     "output_type": "stream",
     "text": [
      "Les vecteurs de base du réseau direct sont : \n",
      "2.105229 -3.646364 0.000000\n",
      "2.105229 3.646364 0.000000\n",
      "0.000000 0.000000 6.902184\n",
      "Leurs longueurs respectives (en Angstrom) : \n",
      "(a,b,c) =  (4.210458355445046, 4.210458355445046, 6.902184)\n",
      "Les angles entre vecteurs sont (en degrés) : \n",
      "(alpha,beta,gamma) =  (90.0, 90.0, 120.0000055851531)\n"
     ]
    }
   ],
   "source": [
    "direct = structure.lattice\n",
    "longueurs_direct = direct.abc\n",
    "angles_direct = direct.angles\n",
    "print(\"Les vecteurs de base du réseau direct sont : \")\n",
    "print(direct)\n",
    "print(\"Leurs longueurs respectives (en Angstrom) : \")\n",
    "print(\"(a,b,c) = \",longueurs_direct)\n",
    "print(\"Les angles entre vecteurs sont (en degrés) : \")\n",
    "print(\"(alpha,beta,gamma) = \",angles_direct)"
   ]
  },
  {
   "cell_type": "markdown",
   "id": "transparent-windsor",
   "metadata": {},
   "source": [
    "Analysons maintenant les vecteurs du réseau réciproque."
   ]
  },
  {
   "cell_type": "code",
   "execution_count": 11,
   "id": "guided-power",
   "metadata": {},
   "outputs": [
    {
     "name": "stdout",
     "output_type": "stream",
     "text": [
      "Les vecteurs de base du réseau réciproque sont : \n",
      "1.492281 -0.861569 0.000000\n",
      "1.492281 0.861569 0.000000\n",
      "0.000000 0.000000 0.910318\n",
      "Leurs longueurs respectives (en Angstrom) : \n",
      "(a,b,c) =  (1.7231373054372454, 1.7231373054372454, 0.9103184306850681)\n",
      "Les angles entre vecteurs sont (en degrés): \n",
      "(alpha,beta,gamma) =  (90.0, 90.0, 59.99999441484688)\n"
     ]
    }
   ],
   "source": [
    "recip = structure.lattice.reciprocal_lattice\n",
    "longueurs_rec = recip.abc\n",
    "angles_rec = recip.angles\n",
    "print(\"Les vecteurs de base du réseau réciproque sont : \")\n",
    "print(recip)\n",
    "print(\"Leurs longueurs respectives (en Angstrom) : \")\n",
    "print(\"(a,b,c) = \",longueurs_rec)\n",
    "print(\"Les angles entre vecteurs sont (en degrés): \")\n",
    "print(\"(alpha,beta,gamma) = \",angles_rec)"
   ]
  },
  {
   "cell_type": "markdown",
   "id": "antique-hurricane",
   "metadata": {},
   "source": [
    "### Autres informations"
   ]
  },
  {
   "cell_type": "markdown",
   "id": "destroyed-enlargement",
   "metadata": {},
   "source": [
    "Enfin, pour terminer cette tache, il faut déterminer le type de maille, le système cristallin, ainsi que le groupe ponctuel du InP. "
   ]
  },
  {
   "cell_type": "code",
   "execution_count": 13,
   "id": "conservative-subdivision",
   "metadata": {},
   "outputs": [
    {
     "name": "stdout",
     "output_type": "stream",
     "text": [
      "Type de maille :  hexagonal\n",
      "Système cristallin :  hexagonal\n",
      "Groupe ponctuel :  6mm\n"
     ]
    }
   ],
   "source": [
    "type_maille = SpacegroupAnalyzer(structure).get_lattice_type()\n",
    "sys_crist = SpacegroupAnalyzer(structure).get_crystal_system()\n",
    "g_ponct = SpacegroupAnalyzer(structure).get_point_group_symbol()\n",
    "\n",
    "print(\"Type de maille : \",type_maille)\n",
    "print(\"Système cristallin : \",sys_crist)\n",
    "print(\"Groupe ponctuel : \", g_ponct)"
   ]
  },
  {
   "cell_type": "code",
   "execution_count": null,
   "id": "possible-triple",
   "metadata": {},
   "outputs": [],
   "source": []
  }
 ],
 "metadata": {
  "kernelspec": {
   "display_name": "Python 3",
   "language": "python",
   "name": "python3"
  },
  "language_info": {
   "codemirror_mode": {
    "name": "ipython",
    "version": 3
   },
   "file_extension": ".py",
   "mimetype": "text/x-python",
   "name": "python",
   "nbconvert_exporter": "python",
   "pygments_lexer": "ipython3",
   "version": "3.6.8"
  }
 },
 "nbformat": 4,
 "nbformat_minor": 5
}
